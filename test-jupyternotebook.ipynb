{
 "cells": [
  {
   "cell_type": "code",
   "execution_count": 1,
   "metadata": {},
   "outputs": [],
   "source": [
    "import pandas as pd\n",
    "from resources.funciones import buscar_muni\n",
    "from resources.funciones import buscar_prov\n",
    "from resources.funciones import get_saldo\n",
    "from resources.funciones import get_saldo_hombres\n",
    "from resources.funciones import get_saldo_mujeres\n",
    "from tkinter.filedialog import askopenfilenames"
   ]
  },
  {
   "cell_type": "code",
   "execution_count": 2,
   "metadata": {},
   "outputs": [],
   "source": [
    "munidatabase = pd.read_csv('databases/municipios.csv', sep=';')\n",
    "\n",
    "filename = askopenfilenames(title= \"Elige todos los microdatos en .CSV\", filetypes=[('CSV file', '*.csv'), ('All files', '*.*')])"
   ]
  },
  {
   "cell_type": "code",
   "execution_count": null,
   "metadata": {},
   "outputs": [],
   "source": [
    "for filez in filename:\n",
    "    microdatos = pd.read_csv(filez)\n",
    "    year = filez[-8:-4]\n",
    "    munidatabase['Saldo_' + year] = munidatabase['PROVMUNI'].apply(get_saldo, df=microdatos)\n",
    "    munidatabase['Saldo_H_' + year] = munidatabase['PROVMUNI'].apply(get_saldo_hombres, df=microdatos)\n",
    "    munidatabase['Saldo_M_' + year] = munidatabase['PROVMUNI'].apply(get_saldo_mujeres, df=microdatos)"
   ]
  },
  {
   "cell_type": "code",
   "execution_count": null,
   "metadata": {},
   "outputs": [],
   "source": [
    "munidatabase.head()"
   ]
  },
  {
   "cell_type": "code",
   "execution_count": null,
   "metadata": {},
   "outputs": [],
   "source": []
  }
 ],
 "metadata": {
  "kernelspec": {
   "display_name": "Python 3",
   "language": "python",
   "name": "python3"
  },
  "language_info": {
   "codemirror_mode": {
    "name": "ipython",
    "version": 3
   },
   "file_extension": ".py",
   "mimetype": "text/x-python",
   "name": "python",
   "nbconvert_exporter": "python",
   "pygments_lexer": "ipython3",
   "version": "3.6.5"
  }
 },
 "nbformat": 4,
 "nbformat_minor": 2
}
