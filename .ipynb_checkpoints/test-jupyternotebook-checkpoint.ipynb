{
 "cells": [
  {
   "cell_type": "code",
   "execution_count": 1,
   "metadata": {},
   "outputs": [],
   "source": [
    "import pandas as pd\n",
    "from resources.funciones import buscar_muni\n",
    "from resources.funciones import buscar_prov\n",
    "from resources.funciones import get_saldo\n",
    "from resources.funciones import get_saldo_hombres\n",
    "from resources.funciones import get_saldo_mujeres\n",
    "from tkinter.filedialog import askopenfilenames"
   ]
  },
  {
   "cell_type": "code",
   "execution_count": 2,
   "metadata": {},
   "outputs": [],
   "source": [
    "munidatabase = pd.read_csv('databases/municipios.csv', sep=';')\n",
    "\n",
    "filename = askopenfilenames(title= \"Elige todos los microdatos en .CSV\", filetypes=[('CSV file', '*.csv'), ('All files', '*.*')])"
   ]
  },
  {
   "cell_type": "code",
   "execution_count": 3,
   "metadata": {},
   "outputs": [],
   "source": [
    "for filez in filename:\n",
    "    microdatos = pd.read_csv(filez)\n",
    "    year = filez[-8:-4]\n",
    "    munidatabase['Saldo_' + year] = munidatabase['PROVMUNI'].apply(get_saldo, df=microdatos)\n",
    "    munidatabase['Saldo_H_' + year] = munidatabase['PROVMUNI'].apply(get_saldo_hombres, df=microdatos)\n",
    "    munidatabase['Saldo_M_' + year] = munidatabase['PROVMUNI'].apply(get_saldo_mujeres, df=microdatos)"
   ]
  },
  {
   "cell_type": "code",
   "execution_count": 4,
   "metadata": {},
   "outputs": [
    {
     "data": {
      "text/html": [
       "<div>\n",
       "<style scoped>\n",
       "    .dataframe tbody tr th:only-of-type {\n",
       "        vertical-align: middle;\n",
       "    }\n",
       "\n",
       "    .dataframe tbody tr th {\n",
       "        vertical-align: top;\n",
       "    }\n",
       "\n",
       "    .dataframe thead th {\n",
       "        text-align: right;\n",
       "    }\n",
       "</style>\n",
       "<table border=\"1\" class=\"dataframe\">\n",
       "  <thead>\n",
       "    <tr style=\"text-align: right;\">\n",
       "      <th></th>\n",
       "      <th>PROV</th>\n",
       "      <th>PROVMUNI</th>\n",
       "      <th>MUNINAME</th>\n",
       "      <th>Saldo_2000</th>\n",
       "      <th>Saldo_H_2000</th>\n",
       "      <th>Saldo_M_2000</th>\n",
       "      <th>Saldo_2001</th>\n",
       "      <th>Saldo_H_2001</th>\n",
       "      <th>Saldo_M_2001</th>\n",
       "    </tr>\n",
       "  </thead>\n",
       "  <tbody>\n",
       "    <tr>\n",
       "      <th>0</th>\n",
       "      <td>1</td>\n",
       "      <td>1001</td>\n",
       "      <td>Alegría-Dulantzi</td>\n",
       "      <td>-2</td>\n",
       "      <td>-1</td>\n",
       "      <td>-1</td>\n",
       "      <td>-2</td>\n",
       "      <td>-1</td>\n",
       "      <td>-1</td>\n",
       "    </tr>\n",
       "    <tr>\n",
       "      <th>1</th>\n",
       "      <td>1</td>\n",
       "      <td>1002</td>\n",
       "      <td>Amurrio</td>\n",
       "      <td>0</td>\n",
       "      <td>0</td>\n",
       "      <td>0</td>\n",
       "      <td>0</td>\n",
       "      <td>0</td>\n",
       "      <td>0</td>\n",
       "    </tr>\n",
       "    <tr>\n",
       "      <th>2</th>\n",
       "      <td>1</td>\n",
       "      <td>1049</td>\n",
       "      <td>Añana</td>\n",
       "      <td>0</td>\n",
       "      <td>0</td>\n",
       "      <td>0</td>\n",
       "      <td>0</td>\n",
       "      <td>0</td>\n",
       "      <td>0</td>\n",
       "    </tr>\n",
       "    <tr>\n",
       "      <th>3</th>\n",
       "      <td>1</td>\n",
       "      <td>1003</td>\n",
       "      <td>Aramaio</td>\n",
       "      <td>0</td>\n",
       "      <td>0</td>\n",
       "      <td>0</td>\n",
       "      <td>0</td>\n",
       "      <td>0</td>\n",
       "      <td>0</td>\n",
       "    </tr>\n",
       "    <tr>\n",
       "      <th>4</th>\n",
       "      <td>1</td>\n",
       "      <td>1006</td>\n",
       "      <td>Armiñón</td>\n",
       "      <td>0</td>\n",
       "      <td>0</td>\n",
       "      <td>0</td>\n",
       "      <td>0</td>\n",
       "      <td>0</td>\n",
       "      <td>0</td>\n",
       "    </tr>\n",
       "  </tbody>\n",
       "</table>\n",
       "</div>"
      ],
      "text/plain": [
       "   PROV  PROVMUNI          MUNINAME  Saldo_2000  Saldo_H_2000  Saldo_M_2000  \\\n",
       "0     1      1001  Alegría-Dulantzi          -2            -1            -1   \n",
       "1     1      1002           Amurrio           0             0             0   \n",
       "2     1      1049             Añana           0             0             0   \n",
       "3     1      1003           Aramaio           0             0             0   \n",
       "4     1      1006           Armiñón           0             0             0   \n",
       "\n",
       "   Saldo_2001  Saldo_H_2001  Saldo_M_2001  \n",
       "0          -2            -1            -1  \n",
       "1           0             0             0  \n",
       "2           0             0             0  \n",
       "3           0             0             0  \n",
       "4           0             0             0  "
      ]
     },
     "execution_count": 4,
     "metadata": {},
     "output_type": "execute_result"
    }
   ],
   "source": [
    "munidatabase.head()"
   ]
  },
  {
   "cell_type": "code",
   "execution_count": null,
   "metadata": {},
   "outputs": [],
   "source": []
  }
 ],
 "metadata": {
  "kernelspec": {
   "display_name": "Python 3",
   "language": "python",
   "name": "python3"
  },
  "language_info": {
   "codemirror_mode": {
    "name": "ipython",
    "version": 3
   },
   "file_extension": ".py",
   "mimetype": "text/x-python",
   "name": "python",
   "nbconvert_exporter": "python",
   "pygments_lexer": "ipython3",
   "version": "3.6.5"
  }
 },
 "nbformat": 4,
 "nbformat_minor": 2
}
