{
 "cells": [
  {
   "cell_type": "code",
   "execution_count": null,
   "metadata": {},
   "outputs": [],
   "source": [
    "import pandas as pd\n",
    "from tkinter.filedialog import askopenfilenames\n",
    "\n",
    "munidatabase = pd.read_csv('databases/municipios.csv', sep=';')\n",
    "result = munidatabase\n",
    "filename = askopenfilenames(title= \"Elige todos los microdatos en .CSV\", filetypes=[('CSV file', '*.csv'), ('All files', '*.*')])"
   ]
  },
  {
   "cell_type": "code",
   "execution_count": null,
   "metadata": {
    "scrolled": true
   },
   "outputs": [],
   "source": [
    "munidatabase.head()"
   ]
  },
  {
   "cell_type": "code",
   "execution_count": null,
   "metadata": {},
   "outputs": [],
   "source": [
    "for filez in filename:\n",
    "    microdatos = pd.read_csv(filez, low_memory=False)\n",
    "    year = filez[-8:-4]\n",
    "\n",
    "microdatos.head()"
   ]
  },
  {
   "cell_type": "markdown",
   "metadata": {},
   "source": [
    "# Saldo VR TOTAL"
   ]
  },
  {
   "cell_type": "code",
   "execution_count": null,
   "metadata": {},
   "outputs": [],
   "source": [
    "ent = microdatos.groupby('PROVMUNIALTA').size()\n",
    "sal = microdatos.groupby('PROVMUNIBAJA').size()\n",
    "saldo = ent.sub(sal, fill_value=0).reset_index().astype(int).rename(columns={'index': 'COD_PROVMUNI',0: str(year) + '_SALDO_TOTAL'})\n",
    "\n",
    "saldo.head()"
   ]
  },
  {
   "cell_type": "code",
   "execution_count": null,
   "metadata": {},
   "outputs": [],
   "source": [
    "result = pd.merge(munidatabase, saldo, on='COD_PROVMUNI')\n",
    "result.head()"
   ]
  },
  {
   "cell_type": "markdown",
   "metadata": {},
   "source": [
    "# Saldo VR TOTAL por GÉNERO"
   ]
  },
  {
   "cell_type": "code",
   "execution_count": null,
   "metadata": {},
   "outputs": [],
   "source": [
    "ent = microdatos.groupby(['PROVMUNIALTA', 'SEXO']).size().unstack(fill_value=0)\n",
    "sal = microdatos.groupby(['PROVMUNIBAJA', 'SEXO']).size().unstack(fill_value=0)\n",
    "saldo = ent.sub(sal, fill_value=0).reset_index().astype(int).rename(columns={'index': 'COD_PROVMUNI',1: str(year) + '_SALDO_HOMBRES', 6: str(year) + '_SALDO_MUJERES'})"
   ]
  },
  {
   "cell_type": "code",
   "execution_count": null,
   "metadata": {},
   "outputs": [],
   "source": [
    "result = pd.merge(result, saldo, on='COD_PROVMUNI')\n",
    "result.head()"
   ]
  },
  {
   "cell_type": "markdown",
   "metadata": {},
   "source": [
    "# Saldo VR TOTAL para EXTRANJEROS "
   ]
  },
  {
   "cell_type": "code",
   "execution_count": null,
   "metadata": {},
   "outputs": [],
   "source": [
    "ent = microdatos[microdatos.PROVBAJA == 66].groupby('PROVMUNIALTA').size()\n",
    "sal = microdatos[microdatos.PROVALTA == 66].groupby('PROVMUNIBAJA').size()\n",
    "saldo = ent.sub(sal, fill_value=0).reset_index().astype(int).rename(columns={'PROVMUNIALTA': 'COD_PROVMUNI',0: str(year) + '_SALDOEXT_TOTAL'})"
   ]
  },
  {
   "cell_type": "code",
   "execution_count": null,
   "metadata": {},
   "outputs": [],
   "source": [
    "saldo.head()"
   ]
  },
  {
   "cell_type": "code",
   "execution_count": null,
   "metadata": {},
   "outputs": [],
   "source": [
    "result = pd.merge(result, saldo, on='COD_PROVMUNI')\n",
    "result.head()"
   ]
  },
  {
   "cell_type": "markdown",
   "metadata": {},
   "source": [
    "# Saldo VR TOTAL para EXTRANJEROS por GENERO"
   ]
  },
  {
   "cell_type": "code",
   "execution_count": null,
   "metadata": {},
   "outputs": [],
   "source": [
    "ent = microdatos[microdatos.PROVBAJA == 66].groupby(['PROVMUNIALTA', 'SEXO']).size().unstack(fill_value=0)\n",
    "sal = microdatos[microdatos.PROVALTA == 66].groupby(['PROVMUNIBAJA', 'SEXO']).size().unstack(fill_value=0)\n",
    "saldo = ent.sub(sal, fill_value=0).reset_index().astype(int).rename(columns={'PROVMUNIALTA': 'COD_PROVMUNI',1: str(year) + '_SALDOEXT_HOMBRES', 6: str(year) + '_SALDOEXT_MUJERES'})"
   ]
  },
  {
   "cell_type": "code",
   "execution_count": null,
   "metadata": {},
   "outputs": [],
   "source": [
    "saldo.head()"
   ]
  },
  {
   "cell_type": "code",
   "execution_count": null,
   "metadata": {},
   "outputs": [],
   "source": [
    "result = pd.merge(result, saldo, on='COD_PROVMUNI')\n",
    "result.head()"
   ]
  },
  {
   "cell_type": "markdown",
   "metadata": {},
   "source": [
    "# Saldo VR TOTAL por TRAMOS DE EDAD"
   ]
  },
  {
   "cell_type": "code",
   "execution_count": null,
   "metadata": {},
   "outputs": [],
   "source": [
    "ent = microdatos.groupby(['PROVMUNIALTA',pd.cut(microdatos['EDAD'], (0, 16, 25, 36, 50, 65, 200 ))]).size().unstack(fill_value=0)\n",
    "sal = microdatos.groupby(['PROVMUNIBAJA',pd.cut(microdatos['EDAD'], (0, 16, 25, 36, 50, 65, 200 ))]).size().unstack(fill_value=0)\n",
    "saldo = ent.sub(sal, fill_value=0).astype(int)\n",
    "saldo.columns = [year + '_SALDOTOTAL_MENORES', year + '_SALDOTOTAL_ESTUDIANTES', year + '_SALDOTOTAL_TRABAJADORES', year + '_SALDOTOTAL_MADUREZ1', year + '_SALDOTOTAL_MADUREZ2', year + '_SALDOTOTAL_JUBILADOS']\n",
    "saldo = saldo.reset_index().rename(columns={'index': 'COD_PROVMUNI'})"
   ]
  },
  {
   "cell_type": "code",
   "execution_count": null,
   "metadata": {},
   "outputs": [],
   "source": [
    "result = pd.merge(result, saldo, on='COD_PROVMUNI')\n",
    "result.head()"
   ]
  },
  {
   "cell_type": "markdown",
   "metadata": {},
   "source": [
    "# Saldo VR TOTAL por GÉNERO y TRAMOS DE EDAD"
   ]
  },
  {
   "cell_type": "code",
   "execution_count": null,
   "metadata": {},
   "outputs": [],
   "source": [
    "microdatos_h = microdatos[microdatos.SEXO == 1].reset_index(drop=True)\n",
    "\n",
    "ent = microdatos_h.groupby(['PROVMUNIALTA', pd.cut(microdatos_h['EDAD'], (0, 16, 25, 36, 50, 65, 200 ))]).size().unstack(fill_value=0).astype(int)\n",
    "sal = microdatos_h.groupby(['PROVMUNIBAJA', pd.cut(microdatos_h['EDAD'], (0, 16, 25, 36, 50, 65, 200 ))]).size().unstack(fill_value=0).astype(int)\n",
    "\n",
    "saldo = ent.sub(sal, fill_value=0).astype(int)\n",
    "saldo.columns = [year + '_SALDOHOMBRES_MENORES', year + '_SALDOHOMBRES_ESTUDIANTES', year + '_SALDOHOMBRES_TRABAJADORES', year + '_SALDOHOMBRES_MADUREZ1', year + '_SALDOHOMBRES_MADUREZ2', year + '_SALDOHOMBRES_JUBILADOS']\n",
    "saldo = saldo.reset_index().rename(columns={'index': 'COD_PROVMUNI'})"
   ]
  },
  {
   "cell_type": "code",
   "execution_count": null,
   "metadata": {},
   "outputs": [],
   "source": [
    "result = pd.merge(result, saldo, on='COD_PROVMUNI')\n",
    "result.head()"
   ]
  },
  {
   "cell_type": "code",
   "execution_count": null,
   "metadata": {},
   "outputs": [],
   "source": [
    "microdatos_m = microdatos[microdatos.SEXO == 6].reset_index(drop=True)\n",
    "\n",
    "ent = microdatos_m.groupby(['PROVMUNIALTA', pd.cut(microdatos_m['EDAD'], (0, 16, 25, 36, 50, 65, 200 ))]).size().unstack(fill_value=0).astype(int)\n",
    "sal = microdatos_m.groupby(['PROVMUNIBAJA', pd.cut(microdatos_m['EDAD'], (0, 16, 25, 36, 50, 65, 200 ))]).size().unstack(fill_value=0).astype(int)\n",
    "\n",
    "saldo = ent.sub(sal, fill_value=0).astype(int)\n",
    "saldo.columns = [year + '_SALDOMUJERES_MENORES', year + '_SALDOMUJERES_ESTUDIANTES', year + '_SALDOMUJERES_TRABAJADORES', year + '_SALDOMUJERES_MADUREZ1', year + '_SALDOMUJERES_MADUREZ2', year + '_SALDOMUJERES_JUBILADOS']\n",
    "saldo = saldo.reset_index().rename(columns={'index': 'COD_PROVMUNI'})"
   ]
  },
  {
   "cell_type": "code",
   "execution_count": null,
   "metadata": {},
   "outputs": [],
   "source": [
    "result = pd.merge(result, saldo, on='COD_PROVMUNI')\n",
    "result.head()"
   ]
  },
  {
   "cell_type": "markdown",
   "metadata": {},
   "source": [
    "# Saldo VR para EXTRANJEROS por TRAMOS DE EDAD"
   ]
  },
  {
   "cell_type": "code",
   "execution_count": null,
   "metadata": {},
   "outputs": [],
   "source": [
    "microdatos_ext_baja = microdatos[microdatos.PROVBAJA == 66].reset_index(drop=True)\n",
    "microdatos_ext_alta = microdatos[microdatos.PROVALTA == 66].reset_index(drop=True)\n",
    "\n",
    "ent = microdatos_ext_baja.groupby(['PROVMUNIALTA',pd.cut(microdatos_ext_baja['EDAD'], (0, 16, 25, 36, 50, 65, 200 ))]).size().unstack(fill_value=0)\n",
    "sal = microdatos_ext_alta.groupby(['PROVMUNIBAJA',pd.cut(microdatos_ext_alta['EDAD'], (0, 16, 25, 36, 50, 65, 200 ))]).size().unstack(fill_value=0)\n",
    "\n",
    "saldo = ent.sub(sal, fill_value=0).astype(int)\n",
    "saldo.columns = [year + '_SALDOEXT_MENORES', year + '_SALDOEXT_ESTUDIANTES', year + '_SALDOEXT_TRABAJADORES', year + '_SALDOEXT_MADUREZ1', year + '_SALDOEXT_MADUREZ2', year + '_SALDOEXT_JUBILADOS']\n",
    "saldo = saldo.reset_index().rename(columns={'PROVMUNIALTA': 'COD_PROVMUNI'})"
   ]
  },
  {
   "cell_type": "code",
   "execution_count": null,
   "metadata": {},
   "outputs": [],
   "source": [
    "result = pd.merge(result, saldo, on='COD_PROVMUNI')\n",
    "result.head()"
   ]
  },
  {
   "cell_type": "markdown",
   "metadata": {},
   "source": [
    "# Saldo VR para EXTRANJEROS por TRAMOS DE EDAD y GENERO"
   ]
  },
  {
   "cell_type": "code",
   "execution_count": null,
   "metadata": {},
   "outputs": [],
   "source": [
    "microdatos_h_ext_baja = microdatos[(microdatos.PROVBAJA == 66) & (microdatos.SEXO == 1)].reset_index(drop=True)\n",
    "microdatos_h_ext_alta = microdatos[(microdatos.PROVALTA == 66) & (microdatos.SEXO == 1)].reset_index(drop=True)\n",
    "\n",
    "ent = microdatos_h_ext_baja.groupby(['PROVMUNIALTA',pd.cut(microdatos_h_ext_baja['EDAD'], (0, 16, 25, 36, 50, 65, 200 ))]).size().unstack(fill_value=0)\n",
    "sal = microdatos_h_ext_alta.groupby(['PROVMUNIBAJA',pd.cut(microdatos_h_ext_alta['EDAD'], (0, 16, 25, 36, 50, 65, 200 ))]).size().unstack(fill_value=0)\n",
    "\n",
    "saldo = ent.sub(sal, fill_value=0).astype(int)\n",
    "saldo.columns = [year + '_SALDOEXT_HOMBRES_MENORES', year + '_SALDOEXT_HOMBRES_ESTUDIANTES', year + '_SALDOEXT_HOMBRES_TRABAJADORES', year + '_SALDOEXT_HOMBRES_MADUREZ1', year + '_SALDOEXT_HOMBRES_MADUREZ2', year + '_SALDOEXT_HOMBRES_JUBILADOS']\n",
    "saldo = saldo.reset_index().rename(columns={'PROVMUNIALTA': 'COD_PROVMUNI'})"
   ]
  },
  {
   "cell_type": "code",
   "execution_count": null,
   "metadata": {},
   "outputs": [],
   "source": [
    "result = pd.merge(result, saldo, on='COD_PROVMUNI')\n",
    "result.head()"
   ]
  },
  {
   "cell_type": "code",
   "execution_count": null,
   "metadata": {},
   "outputs": [],
   "source": [
    "microdatos_m_ext_baja = microdatos[(microdatos.PROVBAJA == 66) & (microdatos.SEXO == 6)].reset_index(drop=True)\n",
    "microdatos_m_ext_alta = microdatos[(microdatos.PROVALTA == 66) & (microdatos.SEXO == 6)].reset_index(drop=True)\n",
    "\n",
    "ent = microdatos_m_ext_baja.groupby(['PROVMUNIALTA',pd.cut(microdatos_m_ext_baja['EDAD'], (0, 16, 25, 36, 50, 65, 200 ))]).size().unstack(fill_value=0)\n",
    "sal = microdatos_m_ext_alta.groupby(['PROVMUNIBAJA',pd.cut(microdatos_m_ext_alta['EDAD'], (0, 16, 25, 36, 50, 65, 200 ))]).size().unstack(fill_value=0)\n",
    "\n",
    "saldo = ent.sub(sal, fill_value=0).astype(int)\n",
    "saldo.columns = [year + '_SALDOEXT_MUJERES_MENORES', year + '_SALDOEXT_MUJERES_ESTUDIANTES', year + '_SALDOEXT_MUJERES_TRABAJADORES', year + '_SALDOEXT_MUJERES_MADUREZ1', year + '_SALDOEXT_MUJERES_MADUREZ2', year + '_SALDOEXT_MUJERES_JUBILADOS']\n",
    "saldo = saldo.reset_index().rename(columns={'PROVMUNIALTA': 'COD_PROVMUNI'})"
   ]
  },
  {
   "cell_type": "code",
   "execution_count": null,
   "metadata": {},
   "outputs": [],
   "source": [
    "result = pd.merge(result, saldo, on='COD_PROVMUNI')\n",
    "result.head()"
   ]
  },
  {
   "cell_type": "code",
   "execution_count": null,
   "metadata": {},
   "outputs": [],
   "source": [
    "result.to_csv('outputs/' + year + '_VR_database.csv', index=False)\n",
    "print('Guardado!!')"
   ]
  }
 ],
 "metadata": {
  "kernelspec": {
   "display_name": "Python 3",
   "language": "python",
   "name": "python3"
  },
  "language_info": {
   "codemirror_mode": {
    "name": "ipython",
    "version": 3
   },
   "file_extension": ".py",
   "mimetype": "text/x-python",
   "name": "python",
   "nbconvert_exporter": "python",
   "pygments_lexer": "ipython3",
   "version": "3.6.5"
  }
 },
 "nbformat": 4,
 "nbformat_minor": 2
}
