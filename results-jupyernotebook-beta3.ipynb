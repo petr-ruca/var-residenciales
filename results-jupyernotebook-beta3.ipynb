{
 "cells": [
  {
   "cell_type": "code",
   "execution_count": null,
   "metadata": {},
   "outputs": [],
   "source": [
    "import pandas as pd\n",
    "from tkinter.filedialog import askopenfilenames\n",
    "\n",
    "munidatabase = pd.read_csv('databases/municipios.csv', sep=';')\n",
    "result = munidatabase\n",
    "filename = askopenfilenames(title= \"Elige todos los microdatos en .CSV\", filetypes=[('CSV file', '*.csv'), ('All files', '*.*')])"
   ]
  },
  {
   "cell_type": "code",
   "execution_count": null,
   "metadata": {
    "scrolled": true
   },
   "outputs": [],
   "source": [
    "munidatabase"
   ]
  },
  {
   "cell_type": "code",
   "execution_count": null,
   "metadata": {},
   "outputs": [],
   "source": [
    "for filez in filename:\n",
    "    microdatos = pd.read_csv(filez, low_memory=False)\n",
    "    year = filez[-8:-4]\n",
    "\n",
    "microdatos.head()"
   ]
  },
  {
   "cell_type": "markdown",
   "metadata": {},
   "source": [
    "# Saldo VR TOTAL"
   ]
  },
  {
   "cell_type": "code",
   "execution_count": null,
   "metadata": {},
   "outputs": [],
   "source": [
    "ent = microdatos.groupby('PROVMUNIALTA').size()\n",
    "sal = microdatos.groupby('PROVMUNIBAJA').size()\n",
    "saldo = ent.sub(sal, fill_value=0).reset_index().astype(int).rename(columns={'index': 'COD_PROVMUNI',0: str(year) + '_SALDO_TOTAL'})\n",
    "\n",
    "saldo.head"
   ]
  },
  {
   "cell_type": "code",
   "execution_count": null,
   "metadata": {},
   "outputs": [],
   "source": [
    "#result = pd.merge(munidatabase, saldo, on='COD_PROVMUNI')\n",
    "\n",
    "result = munidatabase.merge(saldo, how='left', on='COD_PROVMUNI')\n",
    "result"
   ]
  },
  {
   "cell_type": "markdown",
   "metadata": {},
   "source": [
    "# Saldo VR TOTAL por GÉNERO"
   ]
  },
  {
   "cell_type": "code",
   "execution_count": null,
   "metadata": {},
   "outputs": [],
   "source": [
    "ent = microdatos.groupby(['PROVMUNIALTA', 'SEXO']).size().unstack(fill_value=0)\n",
    "sal = microdatos.groupby(['PROVMUNIBAJA', 'SEXO']).size().unstack(fill_value=0)\n",
    "\n",
    "saldo = ent.sub(sal, fill_value=0).reset_index().astype(int).rename(columns={'index': 'COD_PROVMUNI',1: str(year) + '_SALDO_HOMBRES', 6: str(year) + '_SALDO_MUJERES'})\n",
    "\n",
    "saldo"
   ]
  },
  {
   "cell_type": "code",
   "execution_count": null,
   "metadata": {},
   "outputs": [],
   "source": [
    "result = pd.merge(result, saldo, how='left', on='COD_PROVMUNI')\n",
    "result"
   ]
  },
  {
   "cell_type": "markdown",
   "metadata": {},
   "source": [
    "# Saldo VR TOTAL para EXTRANJEROS "
   ]
  },
  {
   "cell_type": "code",
   "execution_count": null,
   "metadata": {},
   "outputs": [],
   "source": [
    "ent = microdatos[microdatos.PROVBAJA == 66].groupby('PROVMUNIALTA').size()\n",
    "sal = microdatos[microdatos.PROVALTA == 66].groupby('PROVMUNIBAJA').size()\n",
    "saldo = ent.sub(sal, fill_value=0).reset_index().astype(int).rename(columns={'PROVMUNIALTA': 'COD_PROVMUNI',0: str(year) + '_SALDOEXT_TOTAL'})"
   ]
  },
  {
   "cell_type": "code",
   "execution_count": null,
   "metadata": {},
   "outputs": [],
   "source": [
    "saldo.head()"
   ]
  },
  {
   "cell_type": "code",
   "execution_count": null,
   "metadata": {},
   "outputs": [],
   "source": [
    "result = pd.merge(result, saldo, how='left', on='COD_PROVMUNI')\n",
    "result"
   ]
  },
  {
   "cell_type": "markdown",
   "metadata": {},
   "source": [
    "# Saldo VR TOTAL para EXTRANJEROS por GENERO"
   ]
  },
  {
   "cell_type": "code",
   "execution_count": null,
   "metadata": {},
   "outputs": [],
   "source": [
    "ent = microdatos[microdatos.PROVBAJA == 66].groupby(['PROVMUNIALTA', 'SEXO']).size().unstack(fill_value=0)\n",
    "sal = microdatos[microdatos.PROVALTA == 66].groupby(['PROVMUNIBAJA', 'SEXO']).size().unstack(fill_value=0)\n",
    "saldo = ent.sub(sal, fill_value=0).reset_index().astype(int).rename(columns={'PROVMUNIALTA': 'COD_PROVMUNI',1: str(year) + '_SALDOEXT_HOMBRES', 6: str(year) + '_SALDOEXT_MUJERES'})"
   ]
  },
  {
   "cell_type": "code",
   "execution_count": null,
   "metadata": {},
   "outputs": [],
   "source": [
    "saldo.head()"
   ]
  },
  {
   "cell_type": "code",
   "execution_count": null,
   "metadata": {},
   "outputs": [],
   "source": [
    "result = pd.merge(result, saldo, how='left', on='COD_PROVMUNI')\n",
    "result"
   ]
  },
  {
   "cell_type": "markdown",
   "metadata": {},
   "source": [
    "# Saldo VR TOTAL por TRAMOS DE EDAD"
   ]
  },
  {
   "cell_type": "code",
   "execution_count": null,
   "metadata": {},
   "outputs": [],
   "source": [
    "ent = microdatos.groupby(['PROVMUNIALTA',pd.cut(microdatos['EDAD'], (0, 16, 25, 36, 50, 65, 200 ))]).size().unstack(fill_value=0)\n",
    "sal = microdatos.groupby(['PROVMUNIBAJA',pd.cut(microdatos['EDAD'], (0, 16, 25, 36, 50, 65, 200 ))]).size().unstack(fill_value=0)\n",
    "saldo = ent.sub(sal, fill_value=0).astype(int)\n",
    "saldo.columns = [year + '_SALDOTOTAL_MENORES', year + '_SALDOTOTAL_ESTUDIANTES', year + '_SALDOTOTAL_TRABAJADORES', year + '_SALDOTOTAL_MADUREZ1', year + '_SALDOTOTAL_MADUREZ2', year + '_SALDOTOTAL_JUBILADOS']\n",
    "saldo = saldo.reset_index().rename(columns={'index': 'COD_PROVMUNI'})"
   ]
  },
  {
   "cell_type": "code",
   "execution_count": null,
   "metadata": {},
   "outputs": [],
   "source": [
    "result = pd.merge(result, saldo, how='left', on='COD_PROVMUNI')\n",
    "result"
   ]
  },
  {
   "cell_type": "markdown",
   "metadata": {},
   "source": [
    "# Saldo VR TOTAL por GÉNERO y TRAMOS DE EDAD"
   ]
  },
  {
   "cell_type": "code",
   "execution_count": null,
   "metadata": {},
   "outputs": [],
   "source": [
    "microdatos_h = microdatos[microdatos.SEXO == 1].reset_index(drop=True)\n",
    "\n",
    "ent = microdatos_h.groupby(['PROVMUNIALTA', pd.cut(microdatos_h['EDAD'], (0, 16, 25, 36, 50, 65, 200 ))]).size().unstack(fill_value=0).astype(int)\n",
    "sal = microdatos_h.groupby(['PROVMUNIBAJA', pd.cut(microdatos_h['EDAD'], (0, 16, 25, 36, 50, 65, 200 ))]).size().unstack(fill_value=0).astype(int)\n",
    "\n",
    "saldo = ent.sub(sal, fill_value=0).astype(int)\n",
    "saldo.columns = [year + '_SALDOHOMBRES_MENORES', year + '_SALDOHOMBRES_ESTUDIANTES', year + '_SALDOHOMBRES_TRABAJADORES', year + '_SALDOHOMBRES_MADUREZ1', year + '_SALDOHOMBRES_MADUREZ2', year + '_SALDOHOMBRES_JUBILADOS']\n",
    "saldo = saldo.reset_index().rename(columns={'index': 'COD_PROVMUNI'})"
   ]
  },
  {
   "cell_type": "code",
   "execution_count": null,
   "metadata": {},
   "outputs": [],
   "source": [
    "result = pd.merge(result, saldo, how='left', on='COD_PROVMUNI')\n",
    "result"
   ]
  },
  {
   "cell_type": "code",
   "execution_count": null,
   "metadata": {},
   "outputs": [],
   "source": [
    "microdatos_m = microdatos[microdatos.SEXO == 6].reset_index(drop=True)\n",
    "\n",
    "ent = microdatos_m.groupby(['PROVMUNIALTA', pd.cut(microdatos_m['EDAD'], (0, 16, 25, 36, 50, 65, 200 ))]).size().unstack(fill_value=0).astype(int)\n",
    "sal = microdatos_m.groupby(['PROVMUNIBAJA', pd.cut(microdatos_m['EDAD'], (0, 16, 25, 36, 50, 65, 200 ))]).size().unstack(fill_value=0).astype(int)\n",
    "\n",
    "saldo = ent.sub(sal, fill_value=0).astype(int)\n",
    "saldo.columns = [year + '_SALDOMUJERES_MENORES', year + '_SALDOMUJERES_ESTUDIANTES', year + '_SALDOMUJERES_TRABAJADORES', year + '_SALDOMUJERES_MADUREZ1', year + '_SALDOMUJERES_MADUREZ2', year + '_SALDOMUJERES_JUBILADOS']\n",
    "saldo = saldo.reset_index().rename(columns={'index': 'COD_PROVMUNI'})"
   ]
  },
  {
   "cell_type": "code",
   "execution_count": null,
   "metadata": {},
   "outputs": [],
   "source": [
    "result = pd.merge(result, saldo, how='left', on='COD_PROVMUNI')\n",
    "result"
   ]
  },
  {
   "cell_type": "markdown",
   "metadata": {},
   "source": [
    "# Saldo VR para EXTRANJEROS por TRAMOS DE EDAD"
   ]
  },
  {
   "cell_type": "code",
   "execution_count": null,
   "metadata": {},
   "outputs": [],
   "source": [
    "microdatos_ext_baja = microdatos[microdatos.PROVBAJA == 66].reset_index(drop=True)\n",
    "microdatos_ext_alta = microdatos[microdatos.PROVALTA == 66].reset_index(drop=True)\n",
    "\n",
    "ent = microdatos_ext_baja.groupby(['PROVMUNIALTA',pd.cut(microdatos_ext_baja['EDAD'], (0, 16, 25, 36, 50, 65, 200 ))]).size().unstack(fill_value=0)\n",
    "sal = microdatos_ext_alta.groupby(['PROVMUNIBAJA',pd.cut(microdatos_ext_alta['EDAD'], (0, 16, 25, 36, 50, 65, 200 ))]).size().unstack(fill_value=0)\n",
    "\n",
    "saldo = ent.sub(sal, fill_value=0).astype(int)\n",
    "saldo.columns = [year + '_SALDOEXT_MENORES', year + '_SALDOEXT_ESTUDIANTES', year + '_SALDOEXT_TRABAJADORES', year + '_SALDOEXT_MADUREZ1', year + '_SALDOEXT_MADUREZ2', year + '_SALDOEXT_JUBILADOS']\n",
    "saldo = saldo.reset_index().rename(columns={'PROVMUNIALTA': 'COD_PROVMUNI'})"
   ]
  },
  {
   "cell_type": "code",
   "execution_count": null,
   "metadata": {},
   "outputs": [],
   "source": [
    "result = pd.merge(result, saldo, how='left', on='COD_PROVMUNI')\n",
    "result"
   ]
  },
  {
   "cell_type": "markdown",
   "metadata": {},
   "source": [
    "# Saldo VR para EXTRANJEROS por TRAMOS DE EDAD y GENERO"
   ]
  },
  {
   "cell_type": "code",
   "execution_count": null,
   "metadata": {},
   "outputs": [],
   "source": [
    "microdatos_h_ext_baja = microdatos[(microdatos.PROVBAJA == 66) & (microdatos.SEXO == 1)].reset_index(drop=True)\n",
    "microdatos_h_ext_alta = microdatos[(microdatos.PROVALTA == 66) & (microdatos.SEXO == 1)].reset_index(drop=True)\n",
    "\n",
    "ent = microdatos_h_ext_baja.groupby(['PROVMUNIALTA',pd.cut(microdatos_h_ext_baja['EDAD'], (0, 16, 25, 36, 50, 65, 200 ))]).size().unstack(fill_value=0)\n",
    "sal = microdatos_h_ext_alta.groupby(['PROVMUNIBAJA',pd.cut(microdatos_h_ext_alta['EDAD'], (0, 16, 25, 36, 50, 65, 200 ))]).size().unstack(fill_value=0)\n",
    "\n",
    "saldo = ent.sub(sal, fill_value=0).astype(int)\n",
    "saldo.columns = [year + '_SALDOEXT_HOMBRES_MENORES', year + '_SALDOEXT_HOMBRES_ESTUDIANTES', year + '_SALDOEXT_HOMBRES_TRABAJADORES', year + '_SALDOEXT_HOMBRES_MADUREZ1', year + '_SALDOEXT_HOMBRES_MADUREZ2', year + '_SALDOEXT_HOMBRES_JUBILADOS']\n",
    "saldo = saldo.reset_index().rename(columns={'PROVMUNIALTA': 'COD_PROVMUNI'})"
   ]
  },
  {
   "cell_type": "code",
   "execution_count": null,
   "metadata": {},
   "outputs": [],
   "source": [
    "result = pd.merge(result, saldo, how='left', on='COD_PROVMUNI')\n",
    "result"
   ]
  },
  {
   "cell_type": "code",
   "execution_count": null,
   "metadata": {},
   "outputs": [],
   "source": [
    "microdatos_m_ext_baja = microdatos[(microdatos.PROVBAJA == 66) & (microdatos.SEXO == 6)].reset_index(drop=True)\n",
    "microdatos_m_ext_alta = microdatos[(microdatos.PROVALTA == 66) & (microdatos.SEXO == 6)].reset_index(drop=True)\n",
    "\n",
    "ent = microdatos_m_ext_baja.groupby(['PROVMUNIALTA',pd.cut(microdatos_m_ext_baja['EDAD'], (0, 16, 25, 36, 50, 65, 200 ))]).size().unstack(fill_value=0)\n",
    "sal = microdatos_m_ext_alta.groupby(['PROVMUNIBAJA',pd.cut(microdatos_m_ext_alta['EDAD'], (0, 16, 25, 36, 50, 65, 200 ))]).size().unstack(fill_value=0)\n",
    "\n",
    "saldo = ent.sub(sal, fill_value=0).astype(int)\n",
    "saldo.columns = [year + '_SALDOEXT_MUJERES_MENORES', year + '_SALDOEXT_MUJERES_ESTUDIANTES', year + '_SALDOEXT_MUJERES_TRABAJADORES', year + '_SALDOEXT_MUJERES_MADUREZ1', year + '_SALDOEXT_MUJERES_MADUREZ2', year + '_SALDOEXT_MUJERES_JUBILADOS']\n",
    "saldo = saldo.reset_index().rename(columns={'PROVMUNIALTA': 'COD_PROVMUNI'})"
   ]
  },
  {
   "cell_type": "code",
   "execution_count": null,
   "metadata": {},
   "outputs": [],
   "source": [
    "result = pd.merge(result, saldo, how='left', on='COD_PROVMUNI')\n",
    "result"
   ]
  },
  {
   "cell_type": "code",
   "execution_count": null,
   "metadata": {},
   "outputs": [],
   "source": [
    "result.COD_PROVMUNI = result.COD_PROVMUNI.astype(str).str.zfill(5)\n",
    "\n",
    "result"
   ]
  },
  {
   "cell_type": "code",
   "execution_count": null,
   "metadata": {},
   "outputs": [],
   "source": [
    "result.to_csv('outputs/' + year + '_VR_database.csv', index=False)\n",
    "print('Guardado!!')"
   ]
  },
  {
   "cell_type": "code",
   "execution_count": 5,
   "metadata": {},
   "outputs": [
    {
     "data": {
      "text/html": [
       "<div>\n",
       "<style scoped>\n",
       "    .dataframe tbody tr th:only-of-type {\n",
       "        vertical-align: middle;\n",
       "    }\n",
       "\n",
       "    .dataframe tbody tr th {\n",
       "        vertical-align: top;\n",
       "    }\n",
       "\n",
       "    .dataframe thead th {\n",
       "        text-align: right;\n",
       "    }\n",
       "</style>\n",
       "<table border=\"1\" class=\"dataframe\">\n",
       "  <thead>\n",
       "    <tr style=\"text-align: right;\">\n",
       "      <th></th>\n",
       "      <th>COD_PROVINCIA,COD_PROVMUNI,MUNICIPIO,POBLACION_1999,2000_SALDO_TOTAL,2000_SALDO_HOMBRES_x,2000_SALDO_MUJERES_x,2000_SALDO_HOMBRES_y,2000_SALDO_MUJERES_y,2000_SALDOEXT_TOTAL_x,2000_SALDOEXT_TOTAL_y,2000_SALDOEXT_HOMBRES,2000_SALDOEXT_MUJERES,2000_SALDOTOTAL_MENORES,2000_SALDOTOTAL_ESTUDIANTES,2000_SALDOTOTAL_TRABAJADORES,2000_SALDOTOTAL_MADUREZ1,2000_SALDOTOTAL_MADUREZ2,2000_SALDOTOTAL_JUBILADOS,2000_SALDOHOMBRES_MENORES,2000_SALDOHOMBRES_ESTUDIANTES,2000_SALDOHOMBRES_TRABAJADORES,2000_SALDOHOMBRES_MADUREZ1,2000_SALDOHOMBRES_MADUREZ2,2000_SALDOHOMBRES_JUBILADOS,2000_SALDOMUJERES_MENORES,2000_SALDOMUJERES_ESTUDIANTES,2000_SALDOMUJERES_TRABAJADORES,2000_SALDOMUJERES_MADUREZ1,2000_SALDOMUJERES_MADUREZ2,2000_SALDOMUJERES_JUBILADOS,2000_SALDOEXT_MENORES,2000_SALDOEXT_ESTUDIANTES,2000_SALDOEXT_TRABAJADORES,2000_SALDOEXT_MADUREZ1,2000_SALDOEXT_MADUREZ2,2000_SALDOEXT_JUBILADOS,2000_SALDOEXT_HOMBRES_MENORES,2000_SALDOEXT_HOMBRES_ESTUDIANTES,2000_SALDOEXT_HOMBRES_TRABAJADORES,2000_SALDOEXT_HOMBRES_MADUREZ1,2000_SALDOEXT_HOMBRES_MADUREZ2,2000_SALDOEXT_HOMBRES_JUBILADOS,2000_SALDOEXT_MUJERES_MENORES,2000_SALDOEXT_MUJERES_ESTUDIANTES,2000_SALDOEXT_MUJERES_TRABAJADORES,2000_SALDOEXT_MUJERES_MADUREZ1,2000_SALDOEXT_MUJERES_MADUREZ2,2000_SALDOEXT_MUJERES_JUBILADOS</th>\n",
       "    </tr>\n",
       "  </thead>\n",
       "  <tbody>\n",
       "    <tr>\n",
       "      <th>0</th>\n",
       "      <td>1,01001,Alegría-Dulantzi,1329,59.0,28.0,31.0,2...</td>\n",
       "    </tr>\n",
       "    <tr>\n",
       "      <th>1</th>\n",
       "      <td>1,01002,Amurrio,9753,-15.0,-9.0,-6.0,-9.0,-6.0...</td>\n",
       "    </tr>\n",
       "    <tr>\n",
       "      <th>2</th>\n",
       "      <td>1,01049,Añana,188,3.0,2.0,1.0,2.0,1.0,1.0,1.0,...</td>\n",
       "    </tr>\n",
       "    <tr>\n",
       "      <th>3</th>\n",
       "      <td>1,01003,Aramaio,1373,32.0,15.0,17.0,15.0,17.0,...</td>\n",
       "    </tr>\n",
       "    <tr>\n",
       "      <th>4</th>\n",
       "      <td>1,01006,Armiñón,153,13.0,9.0,4.0,9.0,4.0,,,,,1...</td>\n",
       "    </tr>\n",
       "    <tr>\n",
       "      <th>5</th>\n",
       "      <td>1,01037,Arraia-Maeztu,712,22.0,14.0,8.0,14.0,8...</td>\n",
       "    </tr>\n",
       "    <tr>\n",
       "      <th>6</th>\n",
       "      <td>1,01008,Arrazua-Ubarrundia,756,18.0,6.0,12.0,6...</td>\n",
       "    </tr>\n",
       "    <tr>\n",
       "      <th>7</th>\n",
       "      <td>1,01004,Artziniega,1338,-3.0,-3.0,0.0,-3.0,0.0...</td>\n",
       "    </tr>\n",
       "    <tr>\n",
       "      <th>8</th>\n",
       "      <td>1,01009,Asparrena,1561,10.0,5.0,5.0,5.0,5.0,7....</td>\n",
       "    </tr>\n",
       "    <tr>\n",
       "      <th>9</th>\n",
       "      <td>1,01010,Ayala/Aiara,2031,33.0,16.0,17.0,16.0,1...</td>\n",
       "    </tr>\n",
       "    <tr>\n",
       "      <th>10</th>\n",
       "      <td>1,01011,Baños de Ebro/Mañueta,333,5.0,5.0,0.0,...</td>\n",
       "    </tr>\n",
       "    <tr>\n",
       "      <th>11</th>\n",
       "      <td>1,01013,Barrundia,590,21.0,14.0,7.0,14.0,7.0,,...</td>\n",
       "    </tr>\n",
       "    <tr>\n",
       "      <th>12</th>\n",
       "      <td>1,01014,Berantevilla,422,34.0,17.0,17.0,17.0,1...</td>\n",
       "    </tr>\n",
       "    <tr>\n",
       "      <th>13</th>\n",
       "      <td>1,01016,Bernedo,544,0.0,2.0,-2.0,2.0,-2.0,,,,,...</td>\n",
       "    </tr>\n",
       "    <tr>\n",
       "      <th>14</th>\n",
       "      <td>1,01017,Campezo/Kanpezu,1062,28.0,9.0,19.0,9.0...</td>\n",
       "    </tr>\n",
       "    <tr>\n",
       "      <th>15</th>\n",
       "      <td>1,01021,Elburgo/Burgelu,269,54.0,21.0,33.0,21....</td>\n",
       "    </tr>\n",
       "    <tr>\n",
       "      <th>16</th>\n",
       "      <td>1,01022,Elciego,905,7.0,2.0,5.0,2.0,5.0,5.0,5....</td>\n",
       "    </tr>\n",
       "    <tr>\n",
       "      <th>17</th>\n",
       "      <td>1,01023,Elvillar/Bilar,356,3.0,0.0,3.0,0.0,3.0...</td>\n",
       "    </tr>\n",
       "    <tr>\n",
       "      <th>18</th>\n",
       "      <td>1,01046,Erriberagoitia/Ribera Alta,515,-2.0,0....</td>\n",
       "    </tr>\n",
       "    <tr>\n",
       "      <th>19</th>\n",
       "      <td>1,01056,Harana/Valle de Arana,353,-2.0,-1.0,-1...</td>\n",
       "    </tr>\n",
       "    <tr>\n",
       "      <th>20</th>\n",
       "      <td>1,01901,Iruña Oka/Iruña de Oca,1674,51.0,41.0,...</td>\n",
       "    </tr>\n",
       "    <tr>\n",
       "      <th>21</th>\n",
       "      <td>1,01027,Iruraiz-Gauna,416,17.0,8.0,9.0,8.0,9.0...</td>\n",
       "    </tr>\n",
       "    <tr>\n",
       "      <th>22</th>\n",
       "      <td>1,01019,Kripan,190,-1.0,-1.0,0.0,-1.0,0.0,,,,,...</td>\n",
       "    </tr>\n",
       "    <tr>\n",
       "      <th>23</th>\n",
       "      <td>1,01020,Kuartango,372,6.0,1.0,5.0,1.0,5.0,4.0,...</td>\n",
       "    </tr>\n",
       "    <tr>\n",
       "      <th>24</th>\n",
       "      <td>1,01028,Labastida/Bastida,1195,31.0,18.0,13.0,...</td>\n",
       "    </tr>\n",
       "    <tr>\n",
       "      <th>25</th>\n",
       "      <td>1,01030,Lagrán,197,3.0,3.0,0.0,3.0,0.0,,,,,2.0...</td>\n",
       "    </tr>\n",
       "    <tr>\n",
       "      <th>26</th>\n",
       "      <td>1,01031,Laguardia,1409,12.0,15.0,-3.0,15.0,-3....</td>\n",
       "    </tr>\n",
       "    <tr>\n",
       "      <th>27</th>\n",
       "      <td>1,01032,Lanciego/Lantziego,642,3.0,2.0,1.0,2.0...</td>\n",
       "    </tr>\n",
       "    <tr>\n",
       "      <th>28</th>\n",
       "      <td>1,01902,Lantarón,924,46.0,22.0,24.0,22.0,24.0,...</td>\n",
       "    </tr>\n",
       "    <tr>\n",
       "      <th>29</th>\n",
       "      <td>1,01033,Lapuebla de Labarca,872,0.0,11.0,-11.0...</td>\n",
       "    </tr>\n",
       "    <tr>\n",
       "      <th>...</th>\n",
       "      <td>...</td>\n",
       "    </tr>\n",
       "    <tr>\n",
       "      <th>8086</th>\n",
       "      <td>50,50272,Utebo,9758,644.0,346.0,298.0,346.0,29...</td>\n",
       "    </tr>\n",
       "    <tr>\n",
       "      <th>8087</th>\n",
       "      <td>50,50274,Val de San Martín,75,0.0,0.0,0.0,0.0,...</td>\n",
       "    </tr>\n",
       "    <tr>\n",
       "      <th>8088</th>\n",
       "      <td>50,50273,Valdehorna,60,,,,,,,,,,,,,,,,,,,,,,,,...</td>\n",
       "    </tr>\n",
       "    <tr>\n",
       "      <th>8089</th>\n",
       "      <td>50,50275,Valmadrid,68,-2.0,-1.0,-1.0,-1.0,-1.0...</td>\n",
       "    </tr>\n",
       "    <tr>\n",
       "      <th>8090</th>\n",
       "      <td>50,50276,Valpalmas,201,-6.0,-4.0,-2.0,-4.0,-2....</td>\n",
       "    </tr>\n",
       "    <tr>\n",
       "      <th>8091</th>\n",
       "      <td>50,50277,Valtorres,99,2.0,1.0,1.0,1.0,1.0,2.0,...</td>\n",
       "    </tr>\n",
       "    <tr>\n",
       "      <th>8092</th>\n",
       "      <td>50,50278,Velilla de Ebro,278,-2.0,0.0,-2.0,0.0...</td>\n",
       "    </tr>\n",
       "    <tr>\n",
       "      <th>8093</th>\n",
       "      <td>50,50279,Velilla de Jiloca,121,-1.0,0.0,-1.0,0...</td>\n",
       "    </tr>\n",
       "    <tr>\n",
       "      <th>8094</th>\n",
       "      <td>50,50280,Vera de Moncayo,480,-3.0,-2.0,-1.0,-2...</td>\n",
       "    </tr>\n",
       "    <tr>\n",
       "      <th>8095</th>\n",
       "      <td>50,50281,Vierlas,101,1.0,0.0,1.0,0.0,1.0,,,,,-...</td>\n",
       "    </tr>\n",
       "    <tr>\n",
       "      <th>8096</th>\n",
       "      <td>50,50283,Villadoz,86,3.0,3.0,0.0,3.0,0.0,,,,,0...</td>\n",
       "    </tr>\n",
       "    <tr>\n",
       "      <th>8097</th>\n",
       "      <td>50,50284,Villafeliche,235,-1.0,-1.0,0.0,-1.0,0...</td>\n",
       "    </tr>\n",
       "    <tr>\n",
       "      <th>8098</th>\n",
       "      <td>50,50285,Villafranca de Ebro,681,-7.0,-1.0,-6....</td>\n",
       "    </tr>\n",
       "    <tr>\n",
       "      <th>8099</th>\n",
       "      <td>50,50286,Villalba de Perejil,117,0.0,1.0,-1.0,...</td>\n",
       "    </tr>\n",
       "    <tr>\n",
       "      <th>8100</th>\n",
       "      <td>50,50287,Villalengua,433,2.0,1.0,1.0,1.0,1.0,1...</td>\n",
       "    </tr>\n",
       "    <tr>\n",
       "      <th>8101</th>\n",
       "      <td>50,50903,Villamayor de Gállego,0,,,,,,,,,,,,,,...</td>\n",
       "    </tr>\n",
       "    <tr>\n",
       "      <th>8102</th>\n",
       "      <td>50,50288,Villanueva de Gállego,2963,113.0,62.0...</td>\n",
       "    </tr>\n",
       "    <tr>\n",
       "      <th>8103</th>\n",
       "      <td>50,50290,Villanueva de Huerva,593,4.0,3.0,1.0,...</td>\n",
       "    </tr>\n",
       "    <tr>\n",
       "      <th>8104</th>\n",
       "      <td>50,50289,Villanueva de Jiloca,121,-4.0,-1.0,-3...</td>\n",
       "    </tr>\n",
       "    <tr>\n",
       "      <th>8105</th>\n",
       "      <td>50,50291,Villar de los Navarros,156,-6.0,-2.0,...</td>\n",
       "    </tr>\n",
       "    <tr>\n",
       "      <th>8106</th>\n",
       "      <td>50,50292,Villarreal de Huerva,177,4.0,2.0,2.0,...</td>\n",
       "    </tr>\n",
       "    <tr>\n",
       "      <th>8107</th>\n",
       "      <td>50,50293,Villarroya de la Sierra,690,4.0,3.0,1...</td>\n",
       "    </tr>\n",
       "    <tr>\n",
       "      <th>8108</th>\n",
       "      <td>50,50294,Villarroya del Campo,89,-2.0,0.0,-2.0...</td>\n",
       "    </tr>\n",
       "    <tr>\n",
       "      <th>8109</th>\n",
       "      <td>50,50282,\"Vilueña, La\",95,-2.0,-1.0,-1.0,-1.0,...</td>\n",
       "    </tr>\n",
       "    <tr>\n",
       "      <th>8110</th>\n",
       "      <td>50,50295,Vistabella,35,1.0,0.0,1.0,0.0,1.0,,,,...</td>\n",
       "    </tr>\n",
       "    <tr>\n",
       "      <th>8111</th>\n",
       "      <td>50,50296,\"Zaida, La\",603,-4.0,0.0,-4.0,0.0,-4....</td>\n",
       "    </tr>\n",
       "    <tr>\n",
       "      <th>8112</th>\n",
       "      <td>50,50297,Zaragoza,603367,-930.0,-542.0,-388.0,...</td>\n",
       "    </tr>\n",
       "    <tr>\n",
       "      <th>8113</th>\n",
       "      <td>50,50298,Zuera,5439,82.0,35.0,47.0,35.0,47.0,,...</td>\n",
       "    </tr>\n",
       "    <tr>\n",
       "      <th>8114</th>\n",
       "      <td>51,51001,Ceuta,73704,-420.0,-116.0,-304.0,-116...</td>\n",
       "    </tr>\n",
       "    <tr>\n",
       "      <th>8115</th>\n",
       "      <td>52,52001,Melilla,56929,-835.0,-469.0,-366.0,-4...</td>\n",
       "    </tr>\n",
       "  </tbody>\n",
       "</table>\n",
       "<p>8116 rows × 1 columns</p>\n",
       "</div>"
      ],
      "text/plain": [
       "     COD_PROVINCIA,COD_PROVMUNI,MUNICIPIO,POBLACION_1999,2000_SALDO_TOTAL,2000_SALDO_HOMBRES_x,2000_SALDO_MUJERES_x,2000_SALDO_HOMBRES_y,2000_SALDO_MUJERES_y,2000_SALDOEXT_TOTAL_x,2000_SALDOEXT_TOTAL_y,2000_SALDOEXT_HOMBRES,2000_SALDOEXT_MUJERES,2000_SALDOTOTAL_MENORES,2000_SALDOTOTAL_ESTUDIANTES,2000_SALDOTOTAL_TRABAJADORES,2000_SALDOTOTAL_MADUREZ1,2000_SALDOTOTAL_MADUREZ2,2000_SALDOTOTAL_JUBILADOS,2000_SALDOHOMBRES_MENORES,2000_SALDOHOMBRES_ESTUDIANTES,2000_SALDOHOMBRES_TRABAJADORES,2000_SALDOHOMBRES_MADUREZ1,2000_SALDOHOMBRES_MADUREZ2,2000_SALDOHOMBRES_JUBILADOS,2000_SALDOMUJERES_MENORES,2000_SALDOMUJERES_ESTUDIANTES,2000_SALDOMUJERES_TRABAJADORES,2000_SALDOMUJERES_MADUREZ1,2000_SALDOMUJERES_MADUREZ2,2000_SALDOMUJERES_JUBILADOS,2000_SALDOEXT_MENORES,2000_SALDOEXT_ESTUDIANTES,2000_SALDOEXT_TRABAJADORES,2000_SALDOEXT_MADUREZ1,2000_SALDOEXT_MADUREZ2,2000_SALDOEXT_JUBILADOS,2000_SALDOEXT_HOMBRES_MENORES,2000_SALDOEXT_HOMBRES_ESTUDIANTES,2000_SALDOEXT_HOMBRES_TRABAJADORES,2000_SALDOEXT_HOMBRES_MADUREZ1,2000_SALDOEXT_HOMBRES_MADUREZ2,2000_SALDOEXT_HOMBRES_JUBILADOS,2000_SALDOEXT_MUJERES_MENORES,2000_SALDOEXT_MUJERES_ESTUDIANTES,2000_SALDOEXT_MUJERES_TRABAJADORES,2000_SALDOEXT_MUJERES_MADUREZ1,2000_SALDOEXT_MUJERES_MADUREZ2,2000_SALDOEXT_MUJERES_JUBILADOS\n",
       "0     1,01001,Alegría-Dulantzi,1329,59.0,28.0,31.0,2...                                                                                                                                                                                                                                                                                                                                                                                                                                                                                                                                                                                                                                                                                                                                                                                                                                                                                                                                                                                                                                                                                                                                                                                                                                                                \n",
       "1     1,01002,Amurrio,9753,-15.0,-9.0,-6.0,-9.0,-6.0...                                                                                                                                                                                                                                                                                                                                                                                                                                                                                                                                                                                                                                                                                                                                                                                                                                                                                                                                                                                                                                                                                                                                                                                                                                                                \n",
       "2     1,01049,Añana,188,3.0,2.0,1.0,2.0,1.0,1.0,1.0,...                                                                                                                                                                                                                                                                                                                                                                                                                                                                                                                                                                                                                                                                                                                                                                                                                                                                                                                                                                                                                                                                                                                                                                                                                                                                \n",
       "3     1,01003,Aramaio,1373,32.0,15.0,17.0,15.0,17.0,...                                                                                                                                                                                                                                                                                                                                                                                                                                                                                                                                                                                                                                                                                                                                                                                                                                                                                                                                                                                                                                                                                                                                                                                                                                                                \n",
       "4     1,01006,Armiñón,153,13.0,9.0,4.0,9.0,4.0,,,,,1...                                                                                                                                                                                                                                                                                                                                                                                                                                                                                                                                                                                                                                                                                                                                                                                                                                                                                                                                                                                                                                                                                                                                                                                                                                                                \n",
       "5     1,01037,Arraia-Maeztu,712,22.0,14.0,8.0,14.0,8...                                                                                                                                                                                                                                                                                                                                                                                                                                                                                                                                                                                                                                                                                                                                                                                                                                                                                                                                                                                                                                                                                                                                                                                                                                                                \n",
       "6     1,01008,Arrazua-Ubarrundia,756,18.0,6.0,12.0,6...                                                                                                                                                                                                                                                                                                                                                                                                                                                                                                                                                                                                                                                                                                                                                                                                                                                                                                                                                                                                                                                                                                                                                                                                                                                                \n",
       "7     1,01004,Artziniega,1338,-3.0,-3.0,0.0,-3.0,0.0...                                                                                                                                                                                                                                                                                                                                                                                                                                                                                                                                                                                                                                                                                                                                                                                                                                                                                                                                                                                                                                                                                                                                                                                                                                                                \n",
       "8     1,01009,Asparrena,1561,10.0,5.0,5.0,5.0,5.0,7....                                                                                                                                                                                                                                                                                                                                                                                                                                                                                                                                                                                                                                                                                                                                                                                                                                                                                                                                                                                                                                                                                                                                                                                                                                                                \n",
       "9     1,01010,Ayala/Aiara,2031,33.0,16.0,17.0,16.0,1...                                                                                                                                                                                                                                                                                                                                                                                                                                                                                                                                                                                                                                                                                                                                                                                                                                                                                                                                                                                                                                                                                                                                                                                                                                                                \n",
       "10    1,01011,Baños de Ebro/Mañueta,333,5.0,5.0,0.0,...                                                                                                                                                                                                                                                                                                                                                                                                                                                                                                                                                                                                                                                                                                                                                                                                                                                                                                                                                                                                                                                                                                                                                                                                                                                                \n",
       "11    1,01013,Barrundia,590,21.0,14.0,7.0,14.0,7.0,,...                                                                                                                                                                                                                                                                                                                                                                                                                                                                                                                                                                                                                                                                                                                                                                                                                                                                                                                                                                                                                                                                                                                                                                                                                                                                \n",
       "12    1,01014,Berantevilla,422,34.0,17.0,17.0,17.0,1...                                                                                                                                                                                                                                                                                                                                                                                                                                                                                                                                                                                                                                                                                                                                                                                                                                                                                                                                                                                                                                                                                                                                                                                                                                                                \n",
       "13    1,01016,Bernedo,544,0.0,2.0,-2.0,2.0,-2.0,,,,,...                                                                                                                                                                                                                                                                                                                                                                                                                                                                                                                                                                                                                                                                                                                                                                                                                                                                                                                                                                                                                                                                                                                                                                                                                                                                \n",
       "14    1,01017,Campezo/Kanpezu,1062,28.0,9.0,19.0,9.0...                                                                                                                                                                                                                                                                                                                                                                                                                                                                                                                                                                                                                                                                                                                                                                                                                                                                                                                                                                                                                                                                                                                                                                                                                                                                \n",
       "15    1,01021,Elburgo/Burgelu,269,54.0,21.0,33.0,21....                                                                                                                                                                                                                                                                                                                                                                                                                                                                                                                                                                                                                                                                                                                                                                                                                                                                                                                                                                                                                                                                                                                                                                                                                                                                \n",
       "16    1,01022,Elciego,905,7.0,2.0,5.0,2.0,5.0,5.0,5....                                                                                                                                                                                                                                                                                                                                                                                                                                                                                                                                                                                                                                                                                                                                                                                                                                                                                                                                                                                                                                                                                                                                                                                                                                                                \n",
       "17    1,01023,Elvillar/Bilar,356,3.0,0.0,3.0,0.0,3.0...                                                                                                                                                                                                                                                                                                                                                                                                                                                                                                                                                                                                                                                                                                                                                                                                                                                                                                                                                                                                                                                                                                                                                                                                                                                                \n",
       "18    1,01046,Erriberagoitia/Ribera Alta,515,-2.0,0....                                                                                                                                                                                                                                                                                                                                                                                                                                                                                                                                                                                                                                                                                                                                                                                                                                                                                                                                                                                                                                                                                                                                                                                                                                                                \n",
       "19    1,01056,Harana/Valle de Arana,353,-2.0,-1.0,-1...                                                                                                                                                                                                                                                                                                                                                                                                                                                                                                                                                                                                                                                                                                                                                                                                                                                                                                                                                                                                                                                                                                                                                                                                                                                                \n",
       "20    1,01901,Iruña Oka/Iruña de Oca,1674,51.0,41.0,...                                                                                                                                                                                                                                                                                                                                                                                                                                                                                                                                                                                                                                                                                                                                                                                                                                                                                                                                                                                                                                                                                                                                                                                                                                                                \n",
       "21    1,01027,Iruraiz-Gauna,416,17.0,8.0,9.0,8.0,9.0...                                                                                                                                                                                                                                                                                                                                                                                                                                                                                                                                                                                                                                                                                                                                                                                                                                                                                                                                                                                                                                                                                                                                                                                                                                                                \n",
       "22    1,01019,Kripan,190,-1.0,-1.0,0.0,-1.0,0.0,,,,,...                                                                                                                                                                                                                                                                                                                                                                                                                                                                                                                                                                                                                                                                                                                                                                                                                                                                                                                                                                                                                                                                                                                                                                                                                                                                \n",
       "23    1,01020,Kuartango,372,6.0,1.0,5.0,1.0,5.0,4.0,...                                                                                                                                                                                                                                                                                                                                                                                                                                                                                                                                                                                                                                                                                                                                                                                                                                                                                                                                                                                                                                                                                                                                                                                                                                                                \n",
       "24    1,01028,Labastida/Bastida,1195,31.0,18.0,13.0,...                                                                                                                                                                                                                                                                                                                                                                                                                                                                                                                                                                                                                                                                                                                                                                                                                                                                                                                                                                                                                                                                                                                                                                                                                                                                \n",
       "25    1,01030,Lagrán,197,3.0,3.0,0.0,3.0,0.0,,,,,2.0...                                                                                                                                                                                                                                                                                                                                                                                                                                                                                                                                                                                                                                                                                                                                                                                                                                                                                                                                                                                                                                                                                                                                                                                                                                                                \n",
       "26    1,01031,Laguardia,1409,12.0,15.0,-3.0,15.0,-3....                                                                                                                                                                                                                                                                                                                                                                                                                                                                                                                                                                                                                                                                                                                                                                                                                                                                                                                                                                                                                                                                                                                                                                                                                                                                \n",
       "27    1,01032,Lanciego/Lantziego,642,3.0,2.0,1.0,2.0...                                                                                                                                                                                                                                                                                                                                                                                                                                                                                                                                                                                                                                                                                                                                                                                                                                                                                                                                                                                                                                                                                                                                                                                                                                                                \n",
       "28    1,01902,Lantarón,924,46.0,22.0,24.0,22.0,24.0,...                                                                                                                                                                                                                                                                                                                                                                                                                                                                                                                                                                                                                                                                                                                                                                                                                                                                                                                                                                                                                                                                                                                                                                                                                                                                \n",
       "29    1,01033,Lapuebla de Labarca,872,0.0,11.0,-11.0...                                                                                                                                                                                                                                                                                                                                                                                                                                                                                                                                                                                                                                                                                                                                                                                                                                                                                                                                                                                                                                                                                                                                                                                                                                                                \n",
       "...                                                 ...                                                                                                                                                                                                                                                                                                                                                                                                                                                                                                                                                                                                                                                                                                                                                                                                                                                                                                                                                                                                                                                                                                                                                                                                                                                                \n",
       "8086  50,50272,Utebo,9758,644.0,346.0,298.0,346.0,29...                                                                                                                                                                                                                                                                                                                                                                                                                                                                                                                                                                                                                                                                                                                                                                                                                                                                                                                                                                                                                                                                                                                                                                                                                                                                \n",
       "8087  50,50274,Val de San Martín,75,0.0,0.0,0.0,0.0,...                                                                                                                                                                                                                                                                                                                                                                                                                                                                                                                                                                                                                                                                                                                                                                                                                                                                                                                                                                                                                                                                                                                                                                                                                                                                \n",
       "8088  50,50273,Valdehorna,60,,,,,,,,,,,,,,,,,,,,,,,,...                                                                                                                                                                                                                                                                                                                                                                                                                                                                                                                                                                                                                                                                                                                                                                                                                                                                                                                                                                                                                                                                                                                                                                                                                                                                \n",
       "8089  50,50275,Valmadrid,68,-2.0,-1.0,-1.0,-1.0,-1.0...                                                                                                                                                                                                                                                                                                                                                                                                                                                                                                                                                                                                                                                                                                                                                                                                                                                                                                                                                                                                                                                                                                                                                                                                                                                                \n",
       "8090  50,50276,Valpalmas,201,-6.0,-4.0,-2.0,-4.0,-2....                                                                                                                                                                                                                                                                                                                                                                                                                                                                                                                                                                                                                                                                                                                                                                                                                                                                                                                                                                                                                                                                                                                                                                                                                                                                \n",
       "8091  50,50277,Valtorres,99,2.0,1.0,1.0,1.0,1.0,2.0,...                                                                                                                                                                                                                                                                                                                                                                                                                                                                                                                                                                                                                                                                                                                                                                                                                                                                                                                                                                                                                                                                                                                                                                                                                                                                \n",
       "8092  50,50278,Velilla de Ebro,278,-2.0,0.0,-2.0,0.0...                                                                                                                                                                                                                                                                                                                                                                                                                                                                                                                                                                                                                                                                                                                                                                                                                                                                                                                                                                                                                                                                                                                                                                                                                                                                \n",
       "8093  50,50279,Velilla de Jiloca,121,-1.0,0.0,-1.0,0...                                                                                                                                                                                                                                                                                                                                                                                                                                                                                                                                                                                                                                                                                                                                                                                                                                                                                                                                                                                                                                                                                                                                                                                                                                                                \n",
       "8094  50,50280,Vera de Moncayo,480,-3.0,-2.0,-1.0,-2...                                                                                                                                                                                                                                                                                                                                                                                                                                                                                                                                                                                                                                                                                                                                                                                                                                                                                                                                                                                                                                                                                                                                                                                                                                                                \n",
       "8095  50,50281,Vierlas,101,1.0,0.0,1.0,0.0,1.0,,,,,-...                                                                                                                                                                                                                                                                                                                                                                                                                                                                                                                                                                                                                                                                                                                                                                                                                                                                                                                                                                                                                                                                                                                                                                                                                                                                \n",
       "8096  50,50283,Villadoz,86,3.0,3.0,0.0,3.0,0.0,,,,,0...                                                                                                                                                                                                                                                                                                                                                                                                                                                                                                                                                                                                                                                                                                                                                                                                                                                                                                                                                                                                                                                                                                                                                                                                                                                                \n",
       "8097  50,50284,Villafeliche,235,-1.0,-1.0,0.0,-1.0,0...                                                                                                                                                                                                                                                                                                                                                                                                                                                                                                                                                                                                                                                                                                                                                                                                                                                                                                                                                                                                                                                                                                                                                                                                                                                                \n",
       "8098  50,50285,Villafranca de Ebro,681,-7.0,-1.0,-6....                                                                                                                                                                                                                                                                                                                                                                                                                                                                                                                                                                                                                                                                                                                                                                                                                                                                                                                                                                                                                                                                                                                                                                                                                                                                \n",
       "8099  50,50286,Villalba de Perejil,117,0.0,1.0,-1.0,...                                                                                                                                                                                                                                                                                                                                                                                                                                                                                                                                                                                                                                                                                                                                                                                                                                                                                                                                                                                                                                                                                                                                                                                                                                                                \n",
       "8100  50,50287,Villalengua,433,2.0,1.0,1.0,1.0,1.0,1...                                                                                                                                                                                                                                                                                                                                                                                                                                                                                                                                                                                                                                                                                                                                                                                                                                                                                                                                                                                                                                                                                                                                                                                                                                                                \n",
       "8101  50,50903,Villamayor de Gállego,0,,,,,,,,,,,,,,...                                                                                                                                                                                                                                                                                                                                                                                                                                                                                                                                                                                                                                                                                                                                                                                                                                                                                                                                                                                                                                                                                                                                                                                                                                                                \n",
       "8102  50,50288,Villanueva de Gállego,2963,113.0,62.0...                                                                                                                                                                                                                                                                                                                                                                                                                                                                                                                                                                                                                                                                                                                                                                                                                                                                                                                                                                                                                                                                                                                                                                                                                                                                \n",
       "8103  50,50290,Villanueva de Huerva,593,4.0,3.0,1.0,...                                                                                                                                                                                                                                                                                                                                                                                                                                                                                                                                                                                                                                                                                                                                                                                                                                                                                                                                                                                                                                                                                                                                                                                                                                                                \n",
       "8104  50,50289,Villanueva de Jiloca,121,-4.0,-1.0,-3...                                                                                                                                                                                                                                                                                                                                                                                                                                                                                                                                                                                                                                                                                                                                                                                                                                                                                                                                                                                                                                                                                                                                                                                                                                                                \n",
       "8105  50,50291,Villar de los Navarros,156,-6.0,-2.0,...                                                                                                                                                                                                                                                                                                                                                                                                                                                                                                                                                                                                                                                                                                                                                                                                                                                                                                                                                                                                                                                                                                                                                                                                                                                                \n",
       "8106  50,50292,Villarreal de Huerva,177,4.0,2.0,2.0,...                                                                                                                                                                                                                                                                                                                                                                                                                                                                                                                                                                                                                                                                                                                                                                                                                                                                                                                                                                                                                                                                                                                                                                                                                                                                \n",
       "8107  50,50293,Villarroya de la Sierra,690,4.0,3.0,1...                                                                                                                                                                                                                                                                                                                                                                                                                                                                                                                                                                                                                                                                                                                                                                                                                                                                                                                                                                                                                                                                                                                                                                                                                                                                \n",
       "8108  50,50294,Villarroya del Campo,89,-2.0,0.0,-2.0...                                                                                                                                                                                                                                                                                                                                                                                                                                                                                                                                                                                                                                                                                                                                                                                                                                                                                                                                                                                                                                                                                                                                                                                                                                                                \n",
       "8109  50,50282,\"Vilueña, La\",95,-2.0,-1.0,-1.0,-1.0,...                                                                                                                                                                                                                                                                                                                                                                                                                                                                                                                                                                                                                                                                                                                                                                                                                                                                                                                                                                                                                                                                                                                                                                                                                                                                \n",
       "8110  50,50295,Vistabella,35,1.0,0.0,1.0,0.0,1.0,,,,...                                                                                                                                                                                                                                                                                                                                                                                                                                                                                                                                                                                                                                                                                                                                                                                                                                                                                                                                                                                                                                                                                                                                                                                                                                                                \n",
       "8111  50,50296,\"Zaida, La\",603,-4.0,0.0,-4.0,0.0,-4....                                                                                                                                                                                                                                                                                                                                                                                                                                                                                                                                                                                                                                                                                                                                                                                                                                                                                                                                                                                                                                                                                                                                                                                                                                                                \n",
       "8112  50,50297,Zaragoza,603367,-930.0,-542.0,-388.0,...                                                                                                                                                                                                                                                                                                                                                                                                                                                                                                                                                                                                                                                                                                                                                                                                                                                                                                                                                                                                                                                                                                                                                                                                                                                                \n",
       "8113  50,50298,Zuera,5439,82.0,35.0,47.0,35.0,47.0,,...                                                                                                                                                                                                                                                                                                                                                                                                                                                                                                                                                                                                                                                                                                                                                                                                                                                                                                                                                                                                                                                                                                                                                                                                                                                                \n",
       "8114  51,51001,Ceuta,73704,-420.0,-116.0,-304.0,-116...                                                                                                                                                                                                                                                                                                                                                                                                                                                                                                                                                                                                                                                                                                                                                                                                                                                                                                                                                                                                                                                                                                                                                                                                                                                                \n",
       "8115  52,52001,Melilla,56929,-835.0,-469.0,-366.0,-4...                                                                                                                                                                                                                                                                                                                                                                                                                                                                                                                                                                                                                                                                                                                                                                                                                                                                                                                                                                                                                                                                                                                                                                                                                                                                \n",
       "\n",
       "[8116 rows x 1 columns]"
      ]
     },
     "execution_count": 5,
     "metadata": {},
     "output_type": "execute_result"
    }
   ],
   "source": [
    "import pandas as pd\n",
    "test = pd.read_csv('outputs/2000_VR_database.csv', sep=';')\n",
    "#test2= pd.read_csv('outputs/VR_database.csv', sep=';')\n",
    "\n",
    "test"
   ]
  },
  {
   "cell_type": "code",
   "execution_count": 8,
   "metadata": {},
   "outputs": [
    {
     "name": "stdout",
     "output_type": "stream",
     "text": [
      "(8116, 1)\n"
     ]
    }
   ],
   "source": [
    "print(test.shape)"
   ]
  },
  {
   "cell_type": "code",
   "execution_count": null,
   "metadata": {},
   "outputs": [],
   "source": []
  }
 ],
 "metadata": {
  "kernelspec": {
   "display_name": "Python 3",
   "language": "python",
   "name": "python3"
  },
  "language_info": {
   "codemirror_mode": {
    "name": "ipython",
    "version": 3
   },
   "file_extension": ".py",
   "mimetype": "text/x-python",
   "name": "python",
   "nbconvert_exporter": "python",
   "pygments_lexer": "ipython3",
   "version": "3.6.5"
  }
 },
 "nbformat": 4,
 "nbformat_minor": 2
}
